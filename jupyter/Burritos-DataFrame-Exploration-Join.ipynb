{
 "cells": [
  {
   "cell_type": "code",
   "execution_count": 1,
   "metadata": {},
   "outputs": [],
   "source": [
    "import pandas as pd\n",
    "import matplotlib.pyplot as plt\n",
    "import numpy as np\n",
    "from datetime import time , datetime , date\n",
    "\n",
    "import plotly.plotly as py\n",
    "import plotly.graph_objs as go\n",
    "import plotly.offline as off\n"
   ]
  },
  {
   "cell_type": "code",
   "execution_count": 2,
   "metadata": {
    "code_folding": [
     0
    ]
   },
   "outputs": [],
   "source": [
    "def analyze(prod_name, df  , features ):\n",
    "\n",
    "    data = []\n",
    "\n",
    "    ff = go.Scatter(\n",
    "        x=df.index,\n",
    "        y=df[features],\n",
    "        name = prod_name,\n",
    "        line = dict(color = '#17BECF'),\n",
    "        opacity = 0.8)\n",
    "    data.append(ff)\n",
    "        \n",
    "    layout = dict(\n",
    "        title=prod_name,\n",
    "        xaxis=dict(\n",
    "            rangeselector=dict(\n",
    "                buttons=list([\n",
    "                    dict(count=1,\n",
    "                         label='1m',\n",
    "                         step='month',\n",
    "                         stepmode='backward'),\n",
    "                    dict(count=6,\n",
    "                         label='6m',\n",
    "                         step='month',\n",
    "                         stepmode='backward'),\n",
    "                    dict(step='all')\n",
    "                ])\n",
    "            ),\n",
    "            rangeslider=dict(),\n",
    "            type='date'\n",
    "        )\n",
    "    )\n",
    "\n",
    "    fig = dict(data=data, layout=layout)\n",
    "    off.plot(fig , filename= prod_name + '.html')\n"
   ]
  },
  {
   "cell_type": "code",
   "execution_count": 3,
   "metadata": {
    "code_folding": [
     3,
     7
    ]
   },
   "outputs": [],
   "source": [
    "pickle_storage = './dataframes/'\n",
    "pickle_extension = '.pkl'\n",
    "\n",
    "def get_pickle(dbname,name):\n",
    "    filename = pickle_storage + dbname + '_'+ name + pickle_extension\n",
    "    return pd.read_pickle(filename)\n",
    "\n",
    "def put_pickle(dbname,name, frame):\n",
    "    filename = pickle_storage  + dbname + '_'+ name + pickle_extension\n",
    "    frame.to_pickle(filename)"
   ]
  },
  {
   "cell_type": "code",
   "execution_count": null,
   "metadata": {},
   "outputs": [],
   "source": []
  },
  {
   "cell_type": "code",
   "execution_count": null,
   "metadata": {},
   "outputs": [],
   "source": []
  },
  {
   "cell_type": "markdown",
   "metadata": {},
   "source": [
    "## Cargando los datos de Pickle (esto se ejecuta una sola vez por la latencia de la red)\n"
   ]
  },
  {
   "cell_type": "markdown",
   "metadata": {},
   "source": [
    "Los libros que nos interesa son:\n",
    "<li>bitfinex_btcusd</li>\n",
    "<li>bitfinex_xrpbtc</li>\n",
    "<li>bitfinex_xrpusd</li>"
   ]
  },
  {
   "cell_type": "code",
   "execution_count": 43,
   "metadata": {},
   "outputs": [],
   "source": [
    "df_disc_1_sec_bitfinex_btcusd = get_pickle('discretized_1_second','bitfinex_btcusd')\n",
    "df_disc_1_sec_bitfinex_xrpbtc = get_pickle('discretized_1_second','bitfinex_xrpbtc')\n",
    "df_disc_1_sec_bitfinex_xrpusd = get_pickle('discretized_1_second','bitfinex_xrpusd')"
   ]
  },
  {
   "cell_type": "code",
   "execution_count": null,
   "metadata": {},
   "outputs": [],
   "source": []
  },
  {
   "cell_type": "code",
   "execution_count": null,
   "metadata": {},
   "outputs": [],
   "source": []
  },
  {
   "cell_type": "markdown",
   "metadata": {},
   "source": [
    "## Exploramos los datos"
   ]
  },
  {
   "cell_type": "code",
   "execution_count": 24,
   "metadata": {},
   "outputs": [
    {
     "name": "stdout",
     "output_type": "stream",
     "text": [
      "540245\n",
      "536394\n",
      "536688\n"
     ]
    }
   ],
   "source": [
    "print (len(df_disc_1_sec_bitfinex_btcusd))\n",
    "print (len(df_disc_1_sec_bitfinex_xrpbtc))\n",
    "print (len(df_disc_1_sec_bitfinex_xrpusd))"
   ]
  },
  {
   "cell_type": "code",
   "execution_count": null,
   "metadata": {},
   "outputs": [],
   "source": []
  },
  {
   "cell_type": "code",
   "execution_count": null,
   "metadata": {},
   "outputs": [],
   "source": []
  },
  {
   "cell_type": "code",
   "execution_count": 11,
   "metadata": {},
   "outputs": [],
   "source": [
    "analyze('df_disc_1_sec_bitfinex_btcusd' , df_disc_1_sec_bitfinex_btcusd.set_index(['start']) , 'initial_ask_price')"
   ]
  },
  {
   "cell_type": "code",
   "execution_count": 12,
   "metadata": {},
   "outputs": [],
   "source": [
    "analyze('df_disc_1_sec_bitfinex_xrpbtc' , df_disc_1_sec_bitfinex_xrpbtc.set_index(['start']) , 'initial_ask_price')"
   ]
  },
  {
   "cell_type": "code",
   "execution_count": 13,
   "metadata": {},
   "outputs": [],
   "source": [
    "analyze('df_disc_1_sec_bitfinex_xrpusd' , df_disc_1_sec_bitfinex_xrpusd.set_index(['start']) , 'initial_ask_price')"
   ]
  },
  {
   "cell_type": "code",
   "execution_count": null,
   "metadata": {},
   "outputs": [],
   "source": []
  },
  {
   "cell_type": "markdown",
   "metadata": {},
   "source": [
    "### Como la los datos tienen valores incompletos para los dias anteriores al 18 de enero truncamos estos registros dejando unicamente las secuencias completas"
   ]
  },
  {
   "cell_type": "code",
   "execution_count": 44,
   "metadata": {
    "scrolled": true
   },
   "outputs": [],
   "source": [
    "df_disc_1_sec_bitfinex_btcusd = df_disc_1_sec_bitfinex_btcusd[df_disc_1_sec_bitfinex_btcusd.start >= '2018-01-18']\n",
    "df_disc_1_sec_bitfinex_xrpbtc = df_disc_1_sec_bitfinex_xrpbtc[df_disc_1_sec_bitfinex_xrpbtc.start >= '2018-01-18']\n",
    "df_disc_1_sec_bitfinex_xrpusd = df_disc_1_sec_bitfinex_xrpusd[df_disc_1_sec_bitfinex_xrpusd.start >= '2018-01-18']"
   ]
  },
  {
   "cell_type": "code",
   "execution_count": 59,
   "metadata": {
    "scrolled": true
   },
   "outputs": [
    {
     "name": "stdout",
     "output_type": "stream",
     "text": [
      "df_disc_1_sec_bitfinex_btcusd: 491158\n",
      "df_disc_1_sec_bitfinex_xrpbtc: 487543\n",
      "df_disc_1_sec_bitfinex_xrpusd: 488037\n"
     ]
    }
   ],
   "source": [
    "print ('df_disc_1_sec_bitfinex_btcusd:' , len(df_disc_1_sec_bitfinex_btcusd))\n",
    "print ('df_disc_1_sec_bitfinex_xrpbtc:' , len(df_disc_1_sec_bitfinex_xrpbtc))\n",
    "print ('df_disc_1_sec_bitfinex_xrpusd:' , len(df_disc_1_sec_bitfinex_xrpusd))"
   ]
  },
  {
   "cell_type": "markdown",
   "metadata": {},
   "source": [
    "#### Agregamos indices"
   ]
  },
  {
   "cell_type": "code",
   "execution_count": 46,
   "metadata": {},
   "outputs": [],
   "source": [
    "df_disc_1_sec_bitfinex_btcusd = df_disc_1_sec_bitfinex_btcusd.set_index(['start'])\n",
    "df_disc_1_sec_bitfinex_xrpbtc = df_disc_1_sec_bitfinex_xrpbtc.set_index(['start'])\n",
    "df_disc_1_sec_bitfinex_xrpusd = df_disc_1_sec_bitfinex_xrpusd.set_index(['start']) "
   ]
  },
  {
   "cell_type": "markdown",
   "metadata": {},
   "source": [
    "#### Visualizamos"
   ]
  },
  {
   "cell_type": "code",
   "execution_count": 27,
   "metadata": {},
   "outputs": [],
   "source": [
    "analyze('df_disc_1_sec_bitfinex_btcusd' , df_disc_1_sec_bitfinex_btcusd , 'initial_ask_price')\n",
    "analyze('df_disc_1_sec_bitfinex_xrpbtc' , df_disc_1_sec_bitfinex_xrpbtc , 'initial_ask_price')\n",
    "analyze('df_disc_1_sec_bitfinex_xrpusd' , df_disc_1_sec_bitfinex_xrpusd , 'initial_ask_price')"
   ]
  },
  {
   "cell_type": "code",
   "execution_count": null,
   "metadata": {},
   "outputs": [],
   "source": []
  },
  {
   "cell_type": "markdown",
   "metadata": {},
   "source": [
    "### Acomodo los nombres de las columnas para hacer un join entre los frames"
   ]
  },
  {
   "cell_type": "code",
   "execution_count": 42,
   "metadata": {},
   "outputs": [],
   "source": [
    "def add_key_to_columns_names(df , columns, key):\n",
    "    df = df.copy()\n",
    "    for c in columns:\n",
    "        df[key + '_' + c ] = df[c]\n",
    "        del df[c]\n",
    "    return df\n",
    "\n",
    "def prepare_frame_to_join(df,columns, key):\n",
    "    df = df.copy()\n",
    "    del df['end']\n",
    "    return add_key_to_columns_names(df , columns, key)"
   ]
  },
  {
   "cell_type": "code",
   "execution_count": null,
   "metadata": {},
   "outputs": [],
   "source": []
  },
  {
   "cell_type": "code",
   "execution_count": 47,
   "metadata": {},
   "outputs": [],
   "source": [
    "df_disc_1_sec_bitfinex_btcusd_pre_join = prepare_frame_to_join(df_disc_1_sec_bitfinex_btcusd , ['initial_ask_price' , 'initial_bid_price' , 'final_ask_price' , 'final_bid_price' ] , 'btcusd')\n",
    "df_disc_1_sec_bitfinex_xrpbtc_pre_join = prepare_frame_to_join(df_disc_1_sec_bitfinex_xrpbtc , ['initial_ask_price' , 'initial_bid_price' , 'final_ask_price' , 'final_bid_price' ] , 'xrpbtc')\n",
    "df_disc_1_sec_bitfinex_xrpusd_pre_join = prepare_frame_to_join(df_disc_1_sec_bitfinex_xrpusd , ['initial_ask_price' , 'initial_bid_price' , 'final_ask_price' , 'final_bid_price' ] , 'xrpusd')"
   ]
  },
  {
   "cell_type": "markdown",
   "metadata": {},
   "source": [
    "#### Joineamos"
   ]
  },
  {
   "cell_type": "code",
   "execution_count": 50,
   "metadata": {},
   "outputs": [],
   "source": [
    "df_joined = pd.concat([df_disc_1_sec_bitfinex_btcusd_pre_join, df_disc_1_sec_bitfinex_xrpbtc_pre_join , \n",
    "                       df_disc_1_sec_bitfinex_xrpusd_pre_join], axis=1, join='inner')"
   ]
  },
  {
   "cell_type": "code",
   "execution_count": 51,
   "metadata": {},
   "outputs": [
    {
     "data": {
      "text/html": [
       "<div>\n",
       "<style scoped>\n",
       "    .dataframe tbody tr th:only-of-type {\n",
       "        vertical-align: middle;\n",
       "    }\n",
       "\n",
       "    .dataframe tbody tr th {\n",
       "        vertical-align: top;\n",
       "    }\n",
       "\n",
       "    .dataframe thead th {\n",
       "        text-align: right;\n",
       "    }\n",
       "</style>\n",
       "<table border=\"1\" class=\"dataframe\">\n",
       "  <thead>\n",
       "    <tr style=\"text-align: right;\">\n",
       "      <th></th>\n",
       "      <th>btcusd_initial_ask_price</th>\n",
       "      <th>btcusd_initial_bid_price</th>\n",
       "      <th>btcusd_final_ask_price</th>\n",
       "      <th>btcusd_final_bid_price</th>\n",
       "      <th>xrpbtc_initial_ask_price</th>\n",
       "      <th>xrpbtc_initial_bid_price</th>\n",
       "      <th>xrpbtc_final_ask_price</th>\n",
       "      <th>xrpbtc_final_bid_price</th>\n",
       "      <th>xrpusd_initial_ask_price</th>\n",
       "      <th>xrpusd_initial_bid_price</th>\n",
       "      <th>xrpusd_final_ask_price</th>\n",
       "      <th>xrpusd_final_bid_price</th>\n",
       "    </tr>\n",
       "    <tr>\n",
       "      <th>start</th>\n",
       "      <th></th>\n",
       "      <th></th>\n",
       "      <th></th>\n",
       "      <th></th>\n",
       "      <th></th>\n",
       "      <th></th>\n",
       "      <th></th>\n",
       "      <th></th>\n",
       "      <th></th>\n",
       "      <th></th>\n",
       "      <th></th>\n",
       "      <th></th>\n",
       "    </tr>\n",
       "  </thead>\n",
       "  <tbody>\n",
       "    <tr>\n",
       "      <th>2018-01-18 09:11:02</th>\n",
       "      <td>11712.0</td>\n",
       "      <td>11711.0</td>\n",
       "      <td>11712.0</td>\n",
       "      <td>11711.0</td>\n",
       "      <td>0.000132</td>\n",
       "      <td>0.000131</td>\n",
       "      <td>0.000132</td>\n",
       "      <td>0.000131</td>\n",
       "      <td>1.5338</td>\n",
       "      <td>1.5324</td>\n",
       "      <td>1.5338</td>\n",
       "      <td>1.5324</td>\n",
       "    </tr>\n",
       "    <tr>\n",
       "      <th>2018-01-18 09:11:03</th>\n",
       "      <td>11712.0</td>\n",
       "      <td>11711.0</td>\n",
       "      <td>11712.0</td>\n",
       "      <td>11709.0</td>\n",
       "      <td>0.000132</td>\n",
       "      <td>0.000131</td>\n",
       "      <td>0.000132</td>\n",
       "      <td>0.000131</td>\n",
       "      <td>1.5338</td>\n",
       "      <td>1.5324</td>\n",
       "      <td>1.5338</td>\n",
       "      <td>1.5324</td>\n",
       "    </tr>\n",
       "    <tr>\n",
       "      <th>2018-01-18 09:11:04</th>\n",
       "      <td>11712.0</td>\n",
       "      <td>11706.0</td>\n",
       "      <td>11709.0</td>\n",
       "      <td>11702.0</td>\n",
       "      <td>0.000132</td>\n",
       "      <td>0.000131</td>\n",
       "      <td>0.000132</td>\n",
       "      <td>0.000131</td>\n",
       "      <td>1.5338</td>\n",
       "      <td>1.5324</td>\n",
       "      <td>1.5337</td>\n",
       "      <td>1.5324</td>\n",
       "    </tr>\n",
       "    <tr>\n",
       "      <th>2018-01-18 09:11:05</th>\n",
       "      <td>11709.0</td>\n",
       "      <td>11699.0</td>\n",
       "      <td>11708.0</td>\n",
       "      <td>11699.0</td>\n",
       "      <td>0.000132</td>\n",
       "      <td>0.000131</td>\n",
       "      <td>0.000131</td>\n",
       "      <td>0.000131</td>\n",
       "      <td>1.5337</td>\n",
       "      <td>1.5302</td>\n",
       "      <td>1.5300</td>\n",
       "      <td>1.5296</td>\n",
       "    </tr>\n",
       "    <tr>\n",
       "      <th>2018-01-18 09:11:06</th>\n",
       "      <td>11708.0</td>\n",
       "      <td>11699.0</td>\n",
       "      <td>11707.0</td>\n",
       "      <td>11703.0</td>\n",
       "      <td>0.000131</td>\n",
       "      <td>0.000131</td>\n",
       "      <td>0.000131</td>\n",
       "      <td>0.000131</td>\n",
       "      <td>1.5300</td>\n",
       "      <td>1.5296</td>\n",
       "      <td>1.5300</td>\n",
       "      <td>1.5296</td>\n",
       "    </tr>\n",
       "  </tbody>\n",
       "</table>\n",
       "</div>"
      ],
      "text/plain": [
       "                     btcusd_initial_ask_price  btcusd_initial_bid_price  \\\n",
       "start                                                                     \n",
       "2018-01-18 09:11:02                   11712.0                   11711.0   \n",
       "2018-01-18 09:11:03                   11712.0                   11711.0   \n",
       "2018-01-18 09:11:04                   11712.0                   11706.0   \n",
       "2018-01-18 09:11:05                   11709.0                   11699.0   \n",
       "2018-01-18 09:11:06                   11708.0                   11699.0   \n",
       "\n",
       "                     btcusd_final_ask_price  btcusd_final_bid_price  \\\n",
       "start                                                                 \n",
       "2018-01-18 09:11:02                 11712.0                 11711.0   \n",
       "2018-01-18 09:11:03                 11712.0                 11709.0   \n",
       "2018-01-18 09:11:04                 11709.0                 11702.0   \n",
       "2018-01-18 09:11:05                 11708.0                 11699.0   \n",
       "2018-01-18 09:11:06                 11707.0                 11703.0   \n",
       "\n",
       "                     xrpbtc_initial_ask_price  xrpbtc_initial_bid_price  \\\n",
       "start                                                                     \n",
       "2018-01-18 09:11:02                  0.000132                  0.000131   \n",
       "2018-01-18 09:11:03                  0.000132                  0.000131   \n",
       "2018-01-18 09:11:04                  0.000132                  0.000131   \n",
       "2018-01-18 09:11:05                  0.000132                  0.000131   \n",
       "2018-01-18 09:11:06                  0.000131                  0.000131   \n",
       "\n",
       "                     xrpbtc_final_ask_price  xrpbtc_final_bid_price  \\\n",
       "start                                                                 \n",
       "2018-01-18 09:11:02                0.000132                0.000131   \n",
       "2018-01-18 09:11:03                0.000132                0.000131   \n",
       "2018-01-18 09:11:04                0.000132                0.000131   \n",
       "2018-01-18 09:11:05                0.000131                0.000131   \n",
       "2018-01-18 09:11:06                0.000131                0.000131   \n",
       "\n",
       "                     xrpusd_initial_ask_price  xrpusd_initial_bid_price  \\\n",
       "start                                                                     \n",
       "2018-01-18 09:11:02                    1.5338                    1.5324   \n",
       "2018-01-18 09:11:03                    1.5338                    1.5324   \n",
       "2018-01-18 09:11:04                    1.5338                    1.5324   \n",
       "2018-01-18 09:11:05                    1.5337                    1.5302   \n",
       "2018-01-18 09:11:06                    1.5300                    1.5296   \n",
       "\n",
       "                     xrpusd_final_ask_price  xrpusd_final_bid_price  \n",
       "start                                                                \n",
       "2018-01-18 09:11:02                  1.5338                  1.5324  \n",
       "2018-01-18 09:11:03                  1.5338                  1.5324  \n",
       "2018-01-18 09:11:04                  1.5337                  1.5324  \n",
       "2018-01-18 09:11:05                  1.5300                  1.5296  \n",
       "2018-01-18 09:11:06                  1.5300                  1.5296  "
      ]
     },
     "execution_count": 51,
     "metadata": {},
     "output_type": "execute_result"
    }
   ],
   "source": [
    "df_joined.head()"
   ]
  },
  {
   "cell_type": "code",
   "execution_count": 62,
   "metadata": {},
   "outputs": [
    {
     "name": "stdout",
     "output_type": "stream",
     "text": [
      "df_joined: 467960\n"
     ]
    }
   ],
   "source": [
    "print('df_joined:' , len(df_joined))\n"
   ]
  },
  {
   "cell_type": "markdown",
   "metadata": {},
   "source": [
    "#### Nota: El sub conjunto de los datos coincide con el frame menor y se han eliminado datos intermedios, posiblemente por ausencia de cotizaciones en alguno de los libros"
   ]
  },
  {
   "cell_type": "code",
   "execution_count": null,
   "metadata": {},
   "outputs": [],
   "source": []
  },
  {
   "cell_type": "markdown",
   "metadata": {},
   "source": [
    "#### Guardamos en Pickle:"
   ]
  },
  {
   "cell_type": "code",
   "execution_count": 63,
   "metadata": {},
   "outputs": [],
   "source": [
    "put_pickle('joined_1_second','btcusd_xrpbtc_xrpusd', df_joined)"
   ]
  },
  {
   "cell_type": "code",
   "execution_count": null,
   "metadata": {},
   "outputs": [],
   "source": []
  },
  {
   "cell_type": "code",
   "execution_count": null,
   "metadata": {},
   "outputs": [],
   "source": []
  }
 ],
 "metadata": {
  "kernelspec": {
   "display_name": "Python 3",
   "language": "python",
   "name": "python3"
  },
  "language_info": {
   "codemirror_mode": {
    "name": "ipython",
    "version": 3
   },
   "file_extension": ".py",
   "mimetype": "text/x-python",
   "name": "python",
   "nbconvert_exporter": "python",
   "pygments_lexer": "ipython3",
   "version": "3.6.3"
  }
 },
 "nbformat": 4,
 "nbformat_minor": 2
}
