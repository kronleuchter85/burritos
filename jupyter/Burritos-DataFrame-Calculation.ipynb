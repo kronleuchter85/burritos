{
 "cells": [
  {
   "cell_type": "code",
   "execution_count": 1,
   "metadata": {},
   "outputs": [],
   "source": [
    "import psycopg2\n",
    "import sys\n",
    "import pprint\n",
    "import pandas as pd\n",
    "import matplotlib.pyplot as plt\n",
    "import numpy as np\n",
    "from datetime import time , datetime , date\n",
    "\n",
    "import plotly.plotly as py\n",
    "import plotly.graph_objs as go\n",
    "import plotly.offline as off"
   ]
  },
  {
   "cell_type": "code",
   "execution_count": null,
   "metadata": {},
   "outputs": [],
   "source": []
  },
  {
   "cell_type": "markdown",
   "metadata": {},
   "source": [
    "### Funciones de utilidad"
   ]
  },
  {
   "cell_type": "code",
   "execution_count": 2,
   "metadata": {},
   "outputs": [],
   "source": [
    "pickle_storage = './dataframes/'\n",
    "pickle_extension = '.pkl'\n",
    "\n",
    "def get_pickle(dbname,name):\n",
    "    filename = pickle_storage + dbname + '_'+ name + pickle_extension\n",
    "    return pd.read_pickle(filename)\n",
    "\n",
    "def put_pickle(dbname,name, frame):\n",
    "    filename = pickle_storage  + dbname + '_'+ name + pickle_extension\n",
    "    frame.to_pickle(filename)"
   ]
  },
  {
   "cell_type": "code",
   "execution_count": null,
   "metadata": {},
   "outputs": [],
   "source": []
  },
  {
   "cell_type": "markdown",
   "metadata": {},
   "source": [
    "### Cargamos el dataframe Joineado"
   ]
  },
  {
   "cell_type": "code",
   "execution_count": 3,
   "metadata": {},
   "outputs": [],
   "source": [
    "df_joined = get_pickle('joined_1_second','btcusd_xrpbtc_xrpusd')"
   ]
  },
  {
   "cell_type": "code",
   "execution_count": 4,
   "metadata": {},
   "outputs": [
    {
     "data": {
      "text/html": [
       "<div>\n",
       "<style scoped>\n",
       "    .dataframe tbody tr th:only-of-type {\n",
       "        vertical-align: middle;\n",
       "    }\n",
       "\n",
       "    .dataframe tbody tr th {\n",
       "        vertical-align: top;\n",
       "    }\n",
       "\n",
       "    .dataframe thead th {\n",
       "        text-align: right;\n",
       "    }\n",
       "</style>\n",
       "<table border=\"1\" class=\"dataframe\">\n",
       "  <thead>\n",
       "    <tr style=\"text-align: right;\">\n",
       "      <th></th>\n",
       "      <th>btcusd_initial_ask_price</th>\n",
       "      <th>btcusd_initial_bid_price</th>\n",
       "      <th>btcusd_final_ask_price</th>\n",
       "      <th>btcusd_final_bid_price</th>\n",
       "      <th>xrpbtc_initial_ask_price</th>\n",
       "      <th>xrpbtc_initial_bid_price</th>\n",
       "      <th>xrpbtc_final_ask_price</th>\n",
       "      <th>xrpbtc_final_bid_price</th>\n",
       "      <th>xrpusd_initial_ask_price</th>\n",
       "      <th>xrpusd_initial_bid_price</th>\n",
       "      <th>xrpusd_final_ask_price</th>\n",
       "      <th>xrpusd_final_bid_price</th>\n",
       "    </tr>\n",
       "    <tr>\n",
       "      <th>start</th>\n",
       "      <th></th>\n",
       "      <th></th>\n",
       "      <th></th>\n",
       "      <th></th>\n",
       "      <th></th>\n",
       "      <th></th>\n",
       "      <th></th>\n",
       "      <th></th>\n",
       "      <th></th>\n",
       "      <th></th>\n",
       "      <th></th>\n",
       "      <th></th>\n",
       "    </tr>\n",
       "  </thead>\n",
       "  <tbody>\n",
       "    <tr>\n",
       "      <th>2018-01-18 09:11:02</th>\n",
       "      <td>11712.0</td>\n",
       "      <td>11711.0</td>\n",
       "      <td>11712.0</td>\n",
       "      <td>11711.0</td>\n",
       "      <td>0.000132</td>\n",
       "      <td>0.000131</td>\n",
       "      <td>0.000132</td>\n",
       "      <td>0.000131</td>\n",
       "      <td>1.5338</td>\n",
       "      <td>1.5324</td>\n",
       "      <td>1.5338</td>\n",
       "      <td>1.5324</td>\n",
       "    </tr>\n",
       "    <tr>\n",
       "      <th>2018-01-18 09:11:03</th>\n",
       "      <td>11712.0</td>\n",
       "      <td>11711.0</td>\n",
       "      <td>11712.0</td>\n",
       "      <td>11709.0</td>\n",
       "      <td>0.000132</td>\n",
       "      <td>0.000131</td>\n",
       "      <td>0.000132</td>\n",
       "      <td>0.000131</td>\n",
       "      <td>1.5338</td>\n",
       "      <td>1.5324</td>\n",
       "      <td>1.5338</td>\n",
       "      <td>1.5324</td>\n",
       "    </tr>\n",
       "    <tr>\n",
       "      <th>2018-01-18 09:11:04</th>\n",
       "      <td>11712.0</td>\n",
       "      <td>11706.0</td>\n",
       "      <td>11709.0</td>\n",
       "      <td>11702.0</td>\n",
       "      <td>0.000132</td>\n",
       "      <td>0.000131</td>\n",
       "      <td>0.000132</td>\n",
       "      <td>0.000131</td>\n",
       "      <td>1.5338</td>\n",
       "      <td>1.5324</td>\n",
       "      <td>1.5337</td>\n",
       "      <td>1.5324</td>\n",
       "    </tr>\n",
       "    <tr>\n",
       "      <th>2018-01-18 09:11:05</th>\n",
       "      <td>11709.0</td>\n",
       "      <td>11699.0</td>\n",
       "      <td>11708.0</td>\n",
       "      <td>11699.0</td>\n",
       "      <td>0.000132</td>\n",
       "      <td>0.000131</td>\n",
       "      <td>0.000131</td>\n",
       "      <td>0.000131</td>\n",
       "      <td>1.5337</td>\n",
       "      <td>1.5302</td>\n",
       "      <td>1.5300</td>\n",
       "      <td>1.5296</td>\n",
       "    </tr>\n",
       "    <tr>\n",
       "      <th>2018-01-18 09:11:06</th>\n",
       "      <td>11708.0</td>\n",
       "      <td>11699.0</td>\n",
       "      <td>11707.0</td>\n",
       "      <td>11703.0</td>\n",
       "      <td>0.000131</td>\n",
       "      <td>0.000131</td>\n",
       "      <td>0.000131</td>\n",
       "      <td>0.000131</td>\n",
       "      <td>1.5300</td>\n",
       "      <td>1.5296</td>\n",
       "      <td>1.5300</td>\n",
       "      <td>1.5296</td>\n",
       "    </tr>\n",
       "  </tbody>\n",
       "</table>\n",
       "</div>"
      ],
      "text/plain": [
       "                     btcusd_initial_ask_price  btcusd_initial_bid_price  \\\n",
       "start                                                                     \n",
       "2018-01-18 09:11:02                   11712.0                   11711.0   \n",
       "2018-01-18 09:11:03                   11712.0                   11711.0   \n",
       "2018-01-18 09:11:04                   11712.0                   11706.0   \n",
       "2018-01-18 09:11:05                   11709.0                   11699.0   \n",
       "2018-01-18 09:11:06                   11708.0                   11699.0   \n",
       "\n",
       "                     btcusd_final_ask_price  btcusd_final_bid_price  \\\n",
       "start                                                                 \n",
       "2018-01-18 09:11:02                 11712.0                 11711.0   \n",
       "2018-01-18 09:11:03                 11712.0                 11709.0   \n",
       "2018-01-18 09:11:04                 11709.0                 11702.0   \n",
       "2018-01-18 09:11:05                 11708.0                 11699.0   \n",
       "2018-01-18 09:11:06                 11707.0                 11703.0   \n",
       "\n",
       "                     xrpbtc_initial_ask_price  xrpbtc_initial_bid_price  \\\n",
       "start                                                                     \n",
       "2018-01-18 09:11:02                  0.000132                  0.000131   \n",
       "2018-01-18 09:11:03                  0.000132                  0.000131   \n",
       "2018-01-18 09:11:04                  0.000132                  0.000131   \n",
       "2018-01-18 09:11:05                  0.000132                  0.000131   \n",
       "2018-01-18 09:11:06                  0.000131                  0.000131   \n",
       "\n",
       "                     xrpbtc_final_ask_price  xrpbtc_final_bid_price  \\\n",
       "start                                                                 \n",
       "2018-01-18 09:11:02                0.000132                0.000131   \n",
       "2018-01-18 09:11:03                0.000132                0.000131   \n",
       "2018-01-18 09:11:04                0.000132                0.000131   \n",
       "2018-01-18 09:11:05                0.000131                0.000131   \n",
       "2018-01-18 09:11:06                0.000131                0.000131   \n",
       "\n",
       "                     xrpusd_initial_ask_price  xrpusd_initial_bid_price  \\\n",
       "start                                                                     \n",
       "2018-01-18 09:11:02                    1.5338                    1.5324   \n",
       "2018-01-18 09:11:03                    1.5338                    1.5324   \n",
       "2018-01-18 09:11:04                    1.5338                    1.5324   \n",
       "2018-01-18 09:11:05                    1.5337                    1.5302   \n",
       "2018-01-18 09:11:06                    1.5300                    1.5296   \n",
       "\n",
       "                     xrpusd_final_ask_price  xrpusd_final_bid_price  \n",
       "start                                                                \n",
       "2018-01-18 09:11:02                  1.5338                  1.5324  \n",
       "2018-01-18 09:11:03                  1.5338                  1.5324  \n",
       "2018-01-18 09:11:04                  1.5337                  1.5324  \n",
       "2018-01-18 09:11:05                  1.5300                  1.5296  \n",
       "2018-01-18 09:11:06                  1.5300                  1.5296  "
      ]
     },
     "execution_count": 4,
     "metadata": {},
     "output_type": "execute_result"
    }
   ],
   "source": [
    "df_joined.head()"
   ]
  },
  {
   "cell_type": "code",
   "execution_count": null,
   "metadata": {},
   "outputs": [],
   "source": []
  },
  {
   "cell_type": "markdown",
   "metadata": {},
   "source": [
    "### Aplicamos el calculo de evaluacion de rentabilidad"
   ]
  },
  {
   "cell_type": "markdown",
   "metadata": {},
   "source": [
    "#### Formula general del saldo generado: \n",
    "#### Qusd_final = Qusd( Qxrp( Qbitcoins(Qusd_inicial)))\n",
    "\n",
    "Con\n",
    "<li>Qbitcoins (Qusd_inicial) = (Qusd - Qusd x Cmm) / btcusd_BID</li>\n",
    "<li>Qxrp (Qbitcoins) = (Qbitcoins - Qbitcoins x Cmt) / xrpbtc_ASK</li>\n",
    "<li>Qusd (Qxrp) = (Qxrp - Qxrp x Cmt) / xrpusd_BID</li>\n",
    "\n",
    "Para valores ctes de\n",
    "<li>Qusd_inicial = 1000 ;</li> <li>Cmm = 0.001% ;</li> <li>Cmt = 0.002%</li>\n",
    "\n",
    "Hacemos:\n",
    "<li>Qusd_final = Qusd( Qxrp( Qbitcoins(Qusd_inicial)))</li>\n",
    "\n",
    "Resultado:\n",
    "<li>Si Qusd_final es mayor que Qusd_inicial -> arbitraje favorable</li>\n",
    "<li>Si Qusd_final es menor o igual que Qusd_inicial, entonces arbitraje desfavorable</li>\n",
    "\n",
    "\n",
    "#### Medir: \n",
    "<li>cantidad de arbitrjes favorables</li>\n",
    "<li>ventana de tiempo que duran los mismos</li>\n"
   ]
  },
  {
   "cell_type": "markdown",
   "metadata": {},
   "source": [
    "#### Funciones necesarias\n"
   ]
  },
  {
   "cell_type": "code",
   "execution_count": 20,
   "metadata": {
    "code_folding": [
     0,
     6,
     12
    ]
   },
   "outputs": [],
   "source": [
    "def q_bitcoins():\n",
    "    qusd = params['qusd_initial'] * (1-params['cmm'])\n",
    "    column_name = 'btcusd_' + params['key'] + '_bid_price'\n",
    "    btcusd_bid = params['dataframe'][column_name]\n",
    "    return qusd / btcusd_bid\n",
    "\n",
    "def q_xrp(q_bitcoins_):\n",
    "    q_bitcoins_ = q_bitcoins_ * (1-params['cmt'])\n",
    "    column_name = 'xrpbtc_' + params['key'] + '_ask_price'\n",
    "    xrpbtc_ask = params['dataframe'][column_name]\n",
    "    return q_bitcoins_ / xrpbtc_ask\n",
    "\n",
    "def q_usd(q_xrp_):\n",
    "    q_xrp_ = q_xrp_ * (1-params['cmt'])\n",
    "    column_name = 'xrpusd_' + params['key'] + '_bid_price'\n",
    "    xrpusd_bid = params['dataframe'][column_name]\n",
    "    return q_xrp_ / xrpusd_bid"
   ]
  },
  {
   "cell_type": "markdown",
   "metadata": {},
   "source": [
    "#### Probamos"
   ]
  },
  {
   "cell_type": "code",
   "execution_count": 30,
   "metadata": {},
   "outputs": [],
   "source": [
    "params = {\n",
    "    'cmm':0.001 ,\n",
    "    'cmt':0.002,\n",
    "    'qusd_initial': 1000 ,\n",
    "    'key': 'initial' ,\n",
    "    'dataframe' : df_joined.copy()\n",
    "}"
   ]
  },
  {
   "cell_type": "code",
   "execution_count": 31,
   "metadata": {},
   "outputs": [],
   "source": [
    "df_joined_result = df_joined.copy()"
   ]
  },
  {
   "cell_type": "code",
   "execution_count": 32,
   "metadata": {},
   "outputs": [],
   "source": [
    "df_joined_result['q_usd_final'] = q_usd(q_xrp(q_bitcoins()))"
   ]
  },
  {
   "cell_type": "code",
   "execution_count": 38,
   "metadata": {
    "scrolled": true
   },
   "outputs": [],
   "source": [
    "df_joined_result['q_usd_profit'] =  df_joined_result['q_usd_final'] - params['qusd_initial'] "
   ]
  },
  {
   "cell_type": "code",
   "execution_count": 39,
   "metadata": {},
   "outputs": [
    {
     "name": "stdout",
     "output_type": "stream",
     "text": [
      "Ganancias:  0\n",
      "Perdidas:  467960\n"
     ]
    }
   ],
   "source": [
    "print('Ganancias: ' , len(df_joined_result[df_joined_result.q_usd_profit > 0]))\n",
    "print('Perdidas: ' , len(df_joined_result[df_joined_result.q_usd_profit < 0]))"
   ]
  },
  {
   "cell_type": "code",
   "execution_count": 40,
   "metadata": {},
   "outputs": [
    {
     "data": {
      "text/plain": [
       "start\n",
       "2018-01-18 09:11:02   -578.527160\n",
       "2018-01-18 09:11:03   -578.463072\n",
       "2018-01-18 09:11:04   -578.250955\n",
       "2018-01-18 09:11:05   -577.359750\n",
       "2018-01-18 09:11:06   -577.161813\n",
       "2018-01-18 09:11:07   -577.195770\n",
       "2018-01-18 09:11:08   -577.057481\n",
       "2018-01-18 09:11:09   -576.960970\n",
       "2018-01-18 09:11:10   -576.331305\n",
       "2018-01-18 09:11:11   -576.220491\n",
       "2018-01-18 09:11:12   -574.630568\n",
       "2018-01-18 09:11:13   -574.618733\n",
       "2018-01-18 09:11:14   -573.853812\n",
       "2018-01-18 09:11:15   -574.524469\n",
       "2018-01-18 09:11:16   -574.524469\n",
       "2018-01-18 09:11:17   -574.560862\n",
       "2018-01-18 09:11:30   -573.414832\n",
       "2018-01-18 09:11:31   -574.331043\n",
       "2018-01-18 09:11:32   -573.904870\n",
       "2018-01-18 09:11:33   -573.583876\n",
       "2018-01-18 09:11:34   -573.583876\n",
       "2018-01-18 09:11:35   -573.583876\n",
       "2018-01-18 09:11:36   -573.551350\n",
       "2018-01-18 09:11:37   -573.268912\n",
       "2018-01-18 09:11:39   -571.376231\n",
       "2018-01-18 09:11:40   -571.449595\n",
       "2018-01-18 09:11:41   -569.508946\n",
       "2018-01-18 09:11:42   -569.476735\n",
       "2018-01-18 09:11:43   -568.968172\n",
       "2018-01-18 09:11:44   -569.443742\n",
       "                          ...    \n",
       "2018-01-24 21:05:03   -453.812702\n",
       "2018-01-24 21:05:04   -453.868533\n",
       "2018-01-24 21:05:05   -453.726332\n",
       "2018-01-24 21:05:06   -453.680435\n",
       "2018-01-24 21:05:07   -453.680435\n",
       "2018-01-24 21:05:08   -453.520698\n",
       "2018-01-24 21:05:09   -453.474775\n",
       "2018-01-24 21:05:10   -453.428845\n",
       "2018-01-24 21:05:11   -453.382906\n",
       "2018-01-24 21:05:12   -453.382906\n",
       "2018-01-24 21:05:13   -453.382906\n",
       "2018-01-24 21:05:14   -453.382906\n",
       "2018-01-24 21:05:16   -453.431096\n",
       "2018-01-24 21:05:17   -453.431096\n",
       "2018-01-24 21:05:18   -453.431096\n",
       "2018-01-24 21:05:19   -453.431096\n",
       "2018-01-24 21:05:20   -453.385155\n",
       "2018-01-24 21:05:21   -453.339205\n",
       "2018-01-24 21:05:22   -453.339205\n",
       "2018-01-24 21:05:23   -454.165115\n",
       "2018-01-24 21:05:24   -454.119297\n",
       "2018-01-24 21:05:25   -454.159762\n",
       "2018-01-24 21:05:26   -454.235311\n",
       "2018-01-24 21:05:27   -454.235311\n",
       "2018-01-24 21:05:28   -454.229939\n",
       "2018-01-24 21:05:29   -454.229939\n",
       "2018-01-24 21:05:41   -453.868533\n",
       "2018-01-24 21:05:42   -454.246531\n",
       "2018-01-24 21:05:43   -453.948022\n",
       "2018-01-24 21:05:45   -453.801448\n",
       "Name: q_usd_profit, Length: 467960, dtype: float64"
      ]
     },
     "execution_count": 40,
     "metadata": {},
     "output_type": "execute_result"
    }
   ],
   "source": [
    "df_joined_result['q_usd_profit']"
   ]
  },
  {
   "cell_type": "code",
   "execution_count": 28,
   "metadata": {
    "scrolled": true
   },
   "outputs": [
    {
     "data": {
      "text/plain": [
       "start\n",
       "2018-01-18 09:11:02    421.536928\n",
       "2018-01-18 09:11:03    421.640987\n",
       "2018-01-18 09:11:04    421.925288\n",
       "2018-01-18 09:11:05    422.838187\n",
       "2018-01-18 09:11:06    422.693664\n",
       "2018-01-18 09:11:07    422.804230\n",
       "2018-01-18 09:11:08    422.762479\n",
       "2018-01-18 09:11:09    423.632494\n",
       "2018-01-18 09:11:10    423.668695\n",
       "2018-01-18 09:11:11    424.859068\n",
       "2018-01-18 09:11:12    425.344882\n",
       "2018-01-18 09:11:13    426.146188\n",
       "2018-01-18 09:11:14    425.475531\n",
       "2018-01-18 09:11:15    425.475531\n",
       "2018-01-18 09:11:16    425.439138\n",
       "2018-01-18 09:11:17    426.641113\n",
       "2018-01-18 09:11:30    425.668957\n",
       "2018-01-18 09:11:31    426.095130\n",
       "2018-01-18 09:11:32    425.884852\n",
       "2018-01-18 09:11:33    426.416124\n",
       "2018-01-18 09:11:34    426.416124\n",
       "2018-01-18 09:11:35    426.448650\n",
       "2018-01-18 09:11:36    427.011096\n",
       "2018-01-18 09:11:37    428.156336\n",
       "2018-01-18 09:11:39    428.550405\n",
       "2018-01-18 09:11:40    428.513733\n",
       "2018-01-18 09:11:41    430.095201\n",
       "2018-01-18 09:11:42    430.994915\n",
       "2018-01-18 09:11:43    430.357596\n",
       "2018-01-18 09:11:44    430.519395\n",
       "                          ...    \n",
       "2018-01-24 21:05:03    546.227778\n",
       "2018-01-24 21:05:04    546.040595\n",
       "2018-01-24 21:05:05    546.175087\n",
       "2018-01-24 21:05:06    546.319565\n",
       "2018-01-24 21:05:07    546.317299\n",
       "2018-01-24 21:05:08    546.525225\n",
       "2018-01-24 21:05:09    546.571155\n",
       "2018-01-24 21:05:10    546.617094\n",
       "2018-01-24 21:05:11    546.617094\n",
       "2018-01-24 21:05:12    546.617094\n",
       "2018-01-24 21:05:13    546.617094\n",
       "2018-01-24 21:05:14    546.568904\n",
       "2018-01-24 21:05:16    546.568904\n",
       "2018-01-24 21:05:17    546.568904\n",
       "2018-01-24 21:05:18    546.568904\n",
       "2018-01-24 21:05:19    546.614845\n",
       "2018-01-24 21:05:20    546.660795\n",
       "2018-01-24 21:05:21    546.660795\n",
       "2018-01-24 21:05:22    545.794423\n",
       "2018-01-24 21:05:23    545.799778\n",
       "2018-01-24 21:05:24    545.759324\n",
       "2018-01-24 21:05:25    545.718877\n",
       "2018-01-24 21:05:26    545.724244\n",
       "2018-01-24 21:05:27    545.810510\n",
       "2018-01-24 21:05:28    545.770061\n",
       "2018-01-24 21:05:29    545.815886\n",
       "2018-01-24 21:05:41    545.705355\n",
       "2018-01-24 21:05:42    545.849721\n",
       "2018-01-24 21:05:43    546.158060\n",
       "2018-01-24 21:05:45    546.196267\n",
       "Name: q_usd_final, Length: 467960, dtype: float64"
      ]
     },
     "execution_count": 28,
     "metadata": {},
     "output_type": "execute_result"
    }
   ],
   "source": [
    "df_joined_result['q_usd_final']"
   ]
  },
  {
   "cell_type": "code",
   "execution_count": null,
   "metadata": {},
   "outputs": [],
   "source": []
  },
  {
   "cell_type": "code",
   "execution_count": 29,
   "metadata": {},
   "outputs": [
    {
     "data": {
      "text/plain": [
       "467960"
      ]
     },
     "execution_count": 29,
     "metadata": {},
     "output_type": "execute_result"
    }
   ],
   "source": [
    "len(df_joined_result[df_joined_result.q_usd_final > 0])"
   ]
  },
  {
   "cell_type": "code",
   "execution_count": null,
   "metadata": {},
   "outputs": [],
   "source": []
  }
 ],
 "metadata": {
  "kernelspec": {
   "display_name": "Python 3",
   "language": "python",
   "name": "python3"
  },
  "language_info": {
   "codemirror_mode": {
    "name": "ipython",
    "version": 3
   },
   "file_extension": ".py",
   "mimetype": "text/x-python",
   "name": "python",
   "nbconvert_exporter": "python",
   "pygments_lexer": "ipython3",
   "version": "3.6.3"
  }
 },
 "nbformat": 4,
 "nbformat_minor": 2
}
