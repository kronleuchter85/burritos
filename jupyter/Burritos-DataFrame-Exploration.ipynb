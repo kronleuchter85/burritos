{
 "cells": [
  {
   "cell_type": "code",
   "execution_count": 1,
   "metadata": {},
   "outputs": [],
   "source": [
    "import pandas as pd\n",
    "import matplotlib.pyplot as plt\n",
    "import numpy as np\n",
    "from datetime import time , datetime , date\n",
    "\n",
    "import plotly.plotly as py\n",
    "import plotly.graph_objs as go\n",
    "import plotly.offline as off\n"
   ]
  },
  {
   "cell_type": "code",
   "execution_count": 2,
   "metadata": {
    "code_folding": [
     0
    ]
   },
   "outputs": [],
   "source": [
    "def analyze(prod_name, df  , features ):\n",
    "\n",
    "    data = []\n",
    "\n",
    "    ff = go.Scatter(\n",
    "        x=df.index,\n",
    "        y=df[features],\n",
    "        name = prod_name,\n",
    "        line = dict(color = '#17BECF'),\n",
    "        opacity = 0.8)\n",
    "    data.append(ff)\n",
    "        \n",
    "    layout = dict(\n",
    "        title=prod_name,\n",
    "        xaxis=dict(\n",
    "            rangeselector=dict(\n",
    "                buttons=list([\n",
    "                    dict(count=1,\n",
    "                         label='1m',\n",
    "                         step='month',\n",
    "                         stepmode='backward'),\n",
    "                    dict(count=6,\n",
    "                         label='6m',\n",
    "                         step='month',\n",
    "                         stepmode='backward'),\n",
    "                    dict(step='all')\n",
    "                ])\n",
    "            ),\n",
    "            rangeslider=dict(),\n",
    "            type='date'\n",
    "        )\n",
    "    )\n",
    "\n",
    "    fig = dict(data=data, layout=layout)\n",
    "    off.plot(fig , filename= prod_name + '.html')\n"
   ]
  },
  {
   "cell_type": "code",
   "execution_count": 3,
   "metadata": {
    "code_folding": [
     3,
     7
    ]
   },
   "outputs": [],
   "source": [
    "pickle_storage = './dataframes/'\n",
    "pickle_extension = '.pkl'\n",
    "\n",
    "def get_pickle(dbname,name):\n",
    "    filename = pickle_storage + dbname + '_'+ name + pickle_extension\n",
    "    return pd.read_pickle(filename)\n",
    "\n",
    "def put_pickle(dbname,name, frame):\n",
    "    filename = pickle_storage  + dbname + '_'+ name + pickle_extension\n",
    "    frame.to_pickle(filename)"
   ]
  },
  {
   "cell_type": "code",
   "execution_count": null,
   "metadata": {},
   "outputs": [],
   "source": []
  },
  {
   "cell_type": "code",
   "execution_count": null,
   "metadata": {},
   "outputs": [],
   "source": []
  },
  {
   "cell_type": "markdown",
   "metadata": {},
   "source": [
    "## Cargando los datos de Pickle (esto se ejecuta una sola vez por la latencia de la red)\n"
   ]
  },
  {
   "cell_type": "markdown",
   "metadata": {},
   "source": [
    "Los libros que nos interesa son:\n",
    "<li>bitfinex_btcusd</li>\n",
    "<li>bitfinex_xrpbtc</li>\n",
    "<li>bitfinex_xrpusd</li>"
   ]
  },
  {
   "cell_type": "code",
   "execution_count": 22,
   "metadata": {},
   "outputs": [],
   "source": [
    "df_disc_1_sec_bitfinex_btcusd = get_pickle('discretized_1_second','bitfinex_btcusd')\n",
    "df_disc_1_sec_bitfinex_xrpbtc = get_pickle('discretized_1_second','bitfinex_xrpbtc')\n",
    "df_disc_1_sec_bitfinex_xrpusd = get_pickle('discretized_1_second','bitfinex_xrpusd')"
   ]
  },
  {
   "cell_type": "code",
   "execution_count": null,
   "metadata": {},
   "outputs": [],
   "source": []
  },
  {
   "cell_type": "code",
   "execution_count": null,
   "metadata": {},
   "outputs": [],
   "source": []
  },
  {
   "cell_type": "markdown",
   "metadata": {},
   "source": [
    "## Exploramos los datos"
   ]
  },
  {
   "cell_type": "code",
   "execution_count": 24,
   "metadata": {},
   "outputs": [
    {
     "name": "stdout",
     "output_type": "stream",
     "text": [
      "540245\n",
      "536394\n",
      "536688\n"
     ]
    }
   ],
   "source": [
    "print (len(df_disc_1_sec_bitfinex_btcusd))\n",
    "print (len(df_disc_1_sec_bitfinex_xrpbtc))\n",
    "print (len(df_disc_1_sec_bitfinex_xrpusd))"
   ]
  },
  {
   "cell_type": "code",
   "execution_count": null,
   "metadata": {},
   "outputs": [],
   "source": []
  },
  {
   "cell_type": "code",
   "execution_count": null,
   "metadata": {},
   "outputs": [],
   "source": []
  },
  {
   "cell_type": "code",
   "execution_count": 11,
   "metadata": {},
   "outputs": [],
   "source": [
    "analyze('df_disc_1_sec_bitfinex_btcusd' , df_disc_1_sec_bitfinex_btcusd.set_index(['start']) , 'initial_ask_price')"
   ]
  },
  {
   "cell_type": "code",
   "execution_count": 12,
   "metadata": {},
   "outputs": [],
   "source": [
    "analyze('df_disc_1_sec_bitfinex_xrpbtc' , df_disc_1_sec_bitfinex_xrpbtc.set_index(['start']) , 'initial_ask_price')"
   ]
  },
  {
   "cell_type": "code",
   "execution_count": 13,
   "metadata": {},
   "outputs": [],
   "source": [
    "analyze('df_disc_1_sec_bitfinex_xrpusd' , df_disc_1_sec_bitfinex_xrpusd.set_index(['start']) , 'initial_ask_price')"
   ]
  },
  {
   "cell_type": "code",
   "execution_count": null,
   "metadata": {},
   "outputs": [],
   "source": []
  },
  {
   "cell_type": "markdown",
   "metadata": {},
   "source": [
    "### Como la los datos tienen valores incompletos para los dias anteriores al 18 de enero truncamos estos registros dejando unicamente las secuencias completas"
   ]
  },
  {
   "cell_type": "code",
   "execution_count": 25,
   "metadata": {
    "scrolled": true
   },
   "outputs": [],
   "source": [
    "df_disc_1_sec_bitfinex_btcusd = df_disc_1_sec_bitfinex_btcusd[df_disc_1_sec_bitfinex_btcusd.start >= '2018-01-18']\n",
    "df_disc_1_sec_bitfinex_xrpbtc = df_disc_1_sec_bitfinex_xrpbtc[df_disc_1_sec_bitfinex_xrpbtc.start >= '2018-01-18']\n",
    "df_disc_1_sec_bitfinex_xrpusd = df_disc_1_sec_bitfinex_xrpusd[df_disc_1_sec_bitfinex_xrpusd.start >= '2018-01-18']"
   ]
  },
  {
   "cell_type": "code",
   "execution_count": 26,
   "metadata": {},
   "outputs": [
    {
     "name": "stdout",
     "output_type": "stream",
     "text": [
      "491158\n",
      "487543\n",
      "488037\n"
     ]
    }
   ],
   "source": [
    "print (len(df_disc_1_sec_bitfinex_btcusd))\n",
    "print (len(df_disc_1_sec_bitfinex_xrpbtc))\n",
    "print (len(df_disc_1_sec_bitfinex_xrpusd))"
   ]
  },
  {
   "cell_type": "code",
   "execution_count": 27,
   "metadata": {},
   "outputs": [],
   "source": [
    "analyze('df_disc_1_sec_bitfinex_btcusd' , df_disc_1_sec_bitfinex_btcusd.set_index(['start']) , 'initial_ask_price')\n",
    "analyze('df_disc_1_sec_bitfinex_xrpbtc' , df_disc_1_sec_bitfinex_xrpbtc.set_index(['start']) , 'initial_ask_price')\n",
    "analyze('df_disc_1_sec_bitfinex_xrpusd' , df_disc_1_sec_bitfinex_xrpusd.set_index(['start']) , 'initial_ask_price')"
   ]
  },
  {
   "cell_type": "code",
   "execution_count": null,
   "metadata": {},
   "outputs": [],
   "source": []
  }
 ],
 "metadata": {
  "kernelspec": {
   "display_name": "Python 3",
   "language": "python",
   "name": "python3"
  },
  "language_info": {
   "codemirror_mode": {
    "name": "ipython",
    "version": 3
   },
   "file_extension": ".py",
   "mimetype": "text/x-python",
   "name": "python",
   "nbconvert_exporter": "python",
   "pygments_lexer": "ipython3",
   "version": "3.6.3"
  }
 },
 "nbformat": 4,
 "nbformat_minor": 2
}
