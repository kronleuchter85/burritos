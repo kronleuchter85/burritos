{
 "cells": [
  {
   "cell_type": "code",
   "execution_count": 2,
   "metadata": {},
   "outputs": [],
   "source": [
    "import psycopg2\n",
    "import sys\n",
    "import pprint\n",
    "import pandas as pd\n",
    "import matplotlib.pyplot as plt\n",
    "import numpy as np\n",
    "from datetime import time , datetime , date\n",
    "\n",
    "import plotly.plotly as py\n",
    "import plotly.graph_objs as go\n",
    "import plotly.offline as off\n"
   ]
  },
  {
   "cell_type": "code",
   "execution_count": null,
   "metadata": {},
   "outputs": [],
   "source": []
  },
  {
   "cell_type": "code",
   "execution_count": null,
   "metadata": {},
   "outputs": [],
   "source": []
  },
  {
   "cell_type": "markdown",
   "metadata": {},
   "source": [
    "## Funciones de utilidad"
   ]
  },
  {
   "cell_type": "code",
   "execution_count": null,
   "metadata": {},
   "outputs": [],
   "source": [
    "def postgre_connect(host,db):\n",
    "    conn_string = \"host='\" + host + \"' dbname='\"+db+\"' user='postgres' password='postgres'\"\n",
    "    print (\"Connecting to database\\n\t->%s\" % (conn_string))\n",
    "    conn = psycopg2.connect(conn_string)\n",
    "    cursor = conn.cursor()\n",
    "    print (\"Connected!\\n\")\n",
    "    return (conn , cursor)"
   ]
  },
  {
   "cell_type": "code",
   "execution_count": 6,
   "metadata": {
    "code_folding": [
     0
    ]
   },
   "outputs": [],
   "source": [
    "def analyze(prod_name, df  , features ):\n",
    "\n",
    "    data = []\n",
    "\n",
    "    ff = go.Scatter(\n",
    "        x=df.index,\n",
    "        y=df[features],\n",
    "        name = prod_name,\n",
    "        line = dict(color = '#17BECF'),\n",
    "        opacity = 0.8)\n",
    "    data.append(ff)\n",
    "        \n",
    "    layout = dict(\n",
    "        title=prod_name,\n",
    "        xaxis=dict(\n",
    "            rangeselector=dict(\n",
    "                buttons=list([\n",
    "                    dict(count=1,\n",
    "                         label='1m',\n",
    "                         step='month',\n",
    "                         stepmode='backward'),\n",
    "                    dict(count=6,\n",
    "                         label='6m',\n",
    "                         step='month',\n",
    "                         stepmode='backward'),\n",
    "                    dict(step='all')\n",
    "                ])\n",
    "            ),\n",
    "            rangeslider=dict(),\n",
    "            type='date'\n",
    "        )\n",
    "    )\n",
    "\n",
    "    fig = dict(data=data, layout=layout)\n",
    "    off.plot(fig , filename= prod_name + '.html')\n"
   ]
  },
  {
   "cell_type": "code",
   "execution_count": 17,
   "metadata": {
    "code_folding": [
     0,
     5
    ]
   },
   "outputs": [],
   "source": [
    "def get_frame(table):\n",
    "    df = pd.read_sql(\"select * from \" + table ,conn)\n",
    "    print ('Leidos:',len(df))\n",
    "    return df\n",
    "\n",
    "def clean_data(frame):\n",
    "    df2 = frame.copy()\n",
    "    df2['datetime'] = df2.apply(lambda x : datetime.combine( x['event_date'] , x['event_time'] ) , axis = 1)\n",
    "    df2['event_type'] = df2['event_type'].apply(lambda x : x.strip())\n",
    "    df2['event_time'] = df2['event_time'].apply(lambda x : time.strftime(x , '%H:%M:%S.%f'))\n",
    "    df2['event_date'] = df2['event_date'].apply(lambda x : date.strftime(x , '%Y-%m-%d'))\n",
    "    df2 = df2.set_index(['datetime'])\n",
    "    return df2\n"
   ]
  },
  {
   "cell_type": "code",
   "execution_count": 29,
   "metadata": {
    "code_folding": [
     3,
     7
    ]
   },
   "outputs": [],
   "source": [
    "pickle_storage = './dataframes/'\n",
    "pickle_extension = '.pkl'\n",
    "\n",
    "def get_pickle(dbname,name):\n",
    "    filename = pickle_storage + dbname + '_'+ name + pickle_extension\n",
    "    return pd.read_pickle(filename)\n",
    "\n",
    "def put_pickle(dbname,name, frame):\n",
    "    filename = pickle_storage  + dbname + '_'+ name + pickle_extension\n",
    "    frame.to_pickle(filename)"
   ]
  },
  {
   "cell_type": "code",
   "execution_count": 32,
   "metadata": {
    "code_folding": [
     1,
     16,
     19,
     31
    ]
   },
   "outputs": [],
   "source": [
    "\n",
    "def _get_unique_datetimes_for_set_second_window(frame , window_seconds):\n",
    "    framex = frame.copy()\n",
    "\n",
    "    def get_window(x , size):\n",
    "        r = x / size\n",
    "        return r * size\n",
    "    \n",
    "    def get_trunked_datetime(d , t):\n",
    "        dd = datetime.strptime(d+t,'%Y-%m-%d%H:%M:%S.%f')\n",
    "        return datetime(dd.year , dd.month, dd.day , dd.hour, dd.minute, get_window(dd.second,window_seconds))\n",
    "\n",
    "    applied = framex.apply(lambda x : get_trunked_datetime(x.event_date ,  x.event_time) , axis=1) \n",
    "\n",
    "    return np.unique(applied)\n",
    "\n",
    "def get_unique_datetimes_by_5_seconds(frame):\n",
    "    return _get_unique_datetimes_for_set_second_window(frame,5)\n",
    "\n",
    "def get_unique_datetimes_by_1_minute(frame):\n",
    "    framex = frame.copy()\n",
    "\n",
    "    def get_trunked_datetime(d , t):\n",
    "        dd = datetime.strptime(d+t,'%Y-%m-%d%H:%M:%S.%f')\n",
    "        return datetime(dd.year , dd.month, dd.day , dd.hour, dd.minute, 0)\n",
    "\n",
    "\n",
    "    applied = framex.apply(lambda x : get_trunked_datetime(x.event_date ,  x.event_time) , axis=1) \n",
    "\n",
    "    return np.unique(applied)\n",
    "\n",
    "def get_unique_datetimes_by_1_second(frame):\n",
    "    framex = frame.copy()\n",
    "\n",
    "    def get_trunked_datetime(d , t):\n",
    "        dd = datetime.strptime(d+t,'%Y-%m-%d%H:%M:%S.%f')\n",
    "        return datetime(dd.year , dd.month, dd.day , dd.hour, dd.minute, dd.second)\n",
    "\n",
    "\n",
    "    applied = framex.apply(lambda x : get_trunked_datetime(x.event_date ,  x.event_time) , axis=1) \n",
    "\n",
    "    return np.unique(applied)"
   ]
  },
  {
   "cell_type": "code",
   "execution_count": 34,
   "metadata": {
    "code_folding": [
     0
    ]
   },
   "outputs": [],
   "source": [
    "def generate_final_set(frame, func_datetimes ):\n",
    "    \n",
    "    initial_ask_prices = []\n",
    "    initial_bid_prices = []\n",
    "    final_ask_prices = []\n",
    "    final_bid_prices = []\n",
    "  \n",
    "    \n",
    "    starts = []\n",
    "    ends = []\n",
    "\n",
    "    datetimes = func_datetimes(frame)\n",
    "    \n",
    "    for i in range(0 , len(datetimes)):\n",
    "\n",
    "        if i < len(datetimes) -1:\n",
    "\n",
    "            start = datetimes[i]\n",
    "            end = datetimes[i+1]\n",
    "\n",
    "            starts.append(start)\n",
    "            ends.append(end)\n",
    "            \n",
    "            mini_set = frame[ (frame.index >= start) & (frame.index < end) ]\n",
    "\n",
    "            ## Agrego el price en este momento\n",
    "            ##\n",
    "            initial_ask_price = mini_set['ask_price'].head(1).values[0]\n",
    "            initial_bid_price = mini_set['bid_price'].head(1).values[0]\n",
    "            last_ask_price = mini_set['ask_price'].tail(1).values[0]\n",
    "            last_bid_price = mini_set['bid_price'].tail(1).values[0]\n",
    "            \n",
    "            initial_ask_prices.append(initial_ask_price)\n",
    "            initial_bid_prices.append(initial_bid_price)\n",
    "            final_ask_prices.append(last_ask_price)\n",
    "            final_bid_prices.append(last_bid_price)\n",
    "            \n",
    "          \n",
    "           \n",
    "    obj = {'start':starts , 'end': ends,           \n",
    "           'initial_ask_price':initial_ask_prices ,\n",
    "           'initial_bid_price':initial_bid_prices ,\n",
    "           'final_ask_price':final_ask_prices ,\n",
    "           'final_bid_price':final_bid_prices }\n",
    "             \n",
    "    n_columns=['start' , 'end',\n",
    "        'initial_ask_price','initial_bid_price','final_ask_price','final_bid_price'] \n",
    "    \n",
    "    return pd.DataFrame(obj , columns=n_columns) "
   ]
  },
  {
   "cell_type": "code",
   "execution_count": null,
   "metadata": {},
   "outputs": [],
   "source": []
  },
  {
   "cell_type": "code",
   "execution_count": null,
   "metadata": {},
   "outputs": [],
   "source": []
  },
  {
   "cell_type": "markdown",
   "metadata": {},
   "source": [
    "## Cargando los datos de la base (esto se ejecuta una sola vez por la latencia de la red)"
   ]
  },
  {
   "cell_type": "markdown",
   "metadata": {},
   "source": [
    "Los libros que nos interesa son:\n",
    "<li>bitfinex_btcusd</li>\n",
    "<li>bitfinex_xrpbtc</li>\n",
    "<li>bitfinex_xrpusd</li>"
   ]
  },
  {
   "cell_type": "markdown",
   "metadata": {},
   "source": [
    "#### Abrimos"
   ]
  },
  {
   "cell_type": "code",
   "execution_count": 40,
   "metadata": {},
   "outputs": [
    {
     "name": "stdout",
     "output_type": "stream",
     "text": [
      "Connecting to database\n",
      "\t->host='nitsuga.com.ar' dbname='gtrader' user='postgres' password='postgres'\n",
      "Connected!\n",
      "\n"
     ]
    }
   ],
   "source": [
    "(conn , cursor ) = postgre_connect('nitsuga.com.ar','gtrader')"
   ]
  },
  {
   "cell_type": "markdown",
   "metadata": {},
   "source": [
    "#### Leemos"
   ]
  },
  {
   "cell_type": "code",
   "execution_count": 41,
   "metadata": {
    "scrolled": true
   },
   "outputs": [
    {
     "name": "stdout",
     "output_type": "stream",
     "text": [
      "Leidos: 1874322\n",
      "Leidos: 1936674\n",
      "Leidos: 1899275\n"
     ]
    }
   ],
   "source": [
    "df_raw_bitfinex_btcusd = get_frame('bitfinex_btcusd')\n",
    "df_raw_bitfinex_xrpbtc = get_frame('bitfinex_xrpbtc')\n",
    "df_raw_bitfinex_xrpusd = get_frame('bitfinex_xrpusd')"
   ]
  },
  {
   "cell_type": "markdown",
   "metadata": {},
   "source": [
    "#### Cerramos"
   ]
  },
  {
   "cell_type": "code",
   "execution_count": 42,
   "metadata": {},
   "outputs": [],
   "source": [
    "cursor.close()\n",
    "conn.close()"
   ]
  },
  {
   "cell_type": "markdown",
   "metadata": {},
   "source": [
    "## Limpiando la data"
   ]
  },
  {
   "cell_type": "code",
   "execution_count": 43,
   "metadata": {},
   "outputs": [],
   "source": [
    "df_clean_bitfinex_btcusd = clean_data(df_raw_bitfinex_btcusd)\n",
    "df_clean_bitfinex_xrpbtc = clean_data(df_raw_bitfinex_xrpbtc)\n",
    "df_clean_bitfinex_xrpusd = clean_data(df_raw_bitfinex_xrpusd)"
   ]
  },
  {
   "cell_type": "code",
   "execution_count": null,
   "metadata": {},
   "outputs": [],
   "source": []
  },
  {
   "cell_type": "code",
   "execution_count": null,
   "metadata": {},
   "outputs": [],
   "source": []
  },
  {
   "cell_type": "markdown",
   "metadata": {},
   "source": [
    "## Guardamos en pickle los datos"
   ]
  },
  {
   "cell_type": "code",
   "execution_count": 44,
   "metadata": {},
   "outputs": [],
   "source": [
    "put_pickle('raw','bitfinex_btcusd', df_raw_bitfinex_btcusd)\n",
    "put_pickle('clean','bitfinex_btcusd', df_clean_bitfinex_btcusd)\n",
    "put_pickle('raw','bitfinex_xrpbtc', df_raw_bitfinex_xrpbtc)\n",
    "put_pickle('clean','bitfinex_xrpbtc', df_clean_bitfinex_xrpbtc)\n",
    "put_pickle('raw','bitfinex_xrpusd', df_raw_bitfinex_xrpusd)\n",
    "put_pickle('clean','bitfinex_xrpusd', df_clean_bitfinex_xrpusd)"
   ]
  },
  {
   "cell_type": "code",
   "execution_count": null,
   "metadata": {},
   "outputs": [],
   "source": []
  },
  {
   "cell_type": "code",
   "execution_count": null,
   "metadata": {},
   "outputs": [],
   "source": []
  },
  {
   "cell_type": "markdown",
   "metadata": {},
   "source": [
    "## NO EJECUTAR - Recuperamos los frames de Pickle"
   ]
  },
  {
   "cell_type": "code",
   "execution_count": 31,
   "metadata": {},
   "outputs": [],
   "source": [
    "df2 = get_pickle('cleaned','bitfinex_ethbtc')"
   ]
  },
  {
   "cell_type": "code",
   "execution_count": null,
   "metadata": {},
   "outputs": [],
   "source": []
  },
  {
   "cell_type": "code",
   "execution_count": null,
   "metadata": {},
   "outputs": [],
   "source": []
  },
  {
   "cell_type": "markdown",
   "metadata": {},
   "source": [
    "## NO EJECUTAR - Separamos los tipos de eventos"
   ]
  },
  {
   "cell_type": "markdown",
   "metadata": {},
   "source": [
    "## ----------------------------------------------------------------------------------------"
   ]
  },
  {
   "cell_type": "code",
   "execution_count": 19,
   "metadata": {},
   "outputs": [],
   "source": [
    "trades = df2[(df2['event_type'] == 'TRADE') ]\n",
    "bids = df2[(df2['event_type'] == 'BID') ]\n",
    "asks = df2[(df2['event_type'] == 'ASK') ]"
   ]
  },
  {
   "cell_type": "code",
   "execution_count": 22,
   "metadata": {
    "scrolled": true
   },
   "outputs": [
    {
     "name": "stdout",
     "output_type": "stream",
     "text": [
      "0\n",
      "986278\n",
      "1115096\n"
     ]
    }
   ],
   "source": [
    "## trades =0 , gracias bruno..\n",
    "print( len(trades))\n",
    "print( len(bids))\n",
    "print( len(asks))"
   ]
  },
  {
   "cell_type": "markdown",
   "metadata": {},
   "source": [
    "## ----------------------------------------------------------------------------------------"
   ]
  },
  {
   "cell_type": "code",
   "execution_count": null,
   "metadata": {},
   "outputs": [],
   "source": []
  },
  {
   "cell_type": "code",
   "execution_count": 45,
   "metadata": {},
   "outputs": [],
   "source": [
    "df_disc_1_sec_bitfinex_btcusd = generate_final_set(df_clean_bitfinex_btcusd, get_unique_datetimes_by_1_second )\n",
    "df_disc_1_sec_bitfinex_xrpbtc = generate_final_set(df_clean_bitfinex_xrpbtc, get_unique_datetimes_by_1_second )\n",
    "df_disc_1_sec_bitfinex_xrpusd = generate_final_set(df_clean_bitfinex_xrpusd, get_unique_datetimes_by_1_second )"
   ]
  },
  {
   "cell_type": "code",
   "execution_count": null,
   "metadata": {},
   "outputs": [],
   "source": []
  },
  {
   "cell_type": "code",
   "execution_count": 46,
   "metadata": {},
   "outputs": [],
   "source": [
    "put_pickle('discretized_1_second','bitfinex_btcusd', df_disc_1_sec_bitfinex_btcusd)\n",
    "put_pickle('discretized_1_second','bitfinex_xrpbtc', df_disc_1_sec_bitfinex_xrpbtc)\n",
    "put_pickle('discretized_1_second','bitfinex_xrpusd', df_disc_1_sec_bitfinex_xrpusd)"
   ]
  },
  {
   "cell_type": "code",
   "execution_count": null,
   "metadata": {},
   "outputs": [],
   "source": []
  },
  {
   "cell_type": "markdown",
   "metadata": {},
   "source": [
    "## Visualizamos los datos"
   ]
  },
  {
   "cell_type": "code",
   "execution_count": 13,
   "metadata": {
    "code_folding": []
   },
   "outputs": [],
   "source": [
    "#analyze('bitfinex_ethbtc' ,trades, 'event_price')"
   ]
  },
  {
   "cell_type": "code",
   "execution_count": null,
   "metadata": {},
   "outputs": [],
   "source": []
  },
  {
   "cell_type": "code",
   "execution_count": 26,
   "metadata": {
    "scrolled": false
   },
   "outputs": [
    {
     "data": {
      "text/html": [
       "<div>\n",
       "<style scoped>\n",
       "    .dataframe tbody tr th:only-of-type {\n",
       "        vertical-align: middle;\n",
       "    }\n",
       "\n",
       "    .dataframe tbody tr th {\n",
       "        vertical-align: top;\n",
       "    }\n",
       "\n",
       "    .dataframe thead th {\n",
       "        text-align: right;\n",
       "    }\n",
       "</style>\n",
       "<table border=\"1\" class=\"dataframe\">\n",
       "  <thead>\n",
       "    <tr style=\"text-align: right;\">\n",
       "      <th></th>\n",
       "      <th>entry_id</th>\n",
       "      <th>event_date</th>\n",
       "      <th>event_time</th>\n",
       "      <th>event_type</th>\n",
       "      <th>event_price</th>\n",
       "      <th>event_size</th>\n",
       "      <th>ask_price</th>\n",
       "      <th>ask_size</th>\n",
       "      <th>bid_price</th>\n",
       "      <th>bid_size</th>\n",
       "    </tr>\n",
       "    <tr>\n",
       "      <th>datetime</th>\n",
       "      <th></th>\n",
       "      <th></th>\n",
       "      <th></th>\n",
       "      <th></th>\n",
       "      <th></th>\n",
       "      <th></th>\n",
       "      <th></th>\n",
       "      <th></th>\n",
       "      <th></th>\n",
       "      <th></th>\n",
       "    </tr>\n",
       "  </thead>\n",
       "  <tbody>\n",
       "    <tr>\n",
       "      <th>2018-01-12 20:57:29.837070</th>\n",
       "      <td>1</td>\n",
       "      <td>2018-01-12</td>\n",
       "      <td>20:57:29.837070</td>\n",
       "      <td>BID</td>\n",
       "      <td>0.091336</td>\n",
       "      <td>1</td>\n",
       "      <td>0.091338</td>\n",
       "      <td>1</td>\n",
       "      <td>0.091336</td>\n",
       "      <td>1</td>\n",
       "    </tr>\n",
       "    <tr>\n",
       "      <th>2018-01-12 20:57:29.845138</th>\n",
       "      <td>2</td>\n",
       "      <td>2018-01-12</td>\n",
       "      <td>20:57:29.845138</td>\n",
       "      <td>ASK</td>\n",
       "      <td>0.091338</td>\n",
       "      <td>1</td>\n",
       "      <td>0.091338</td>\n",
       "      <td>1</td>\n",
       "      <td>0.091336</td>\n",
       "      <td>1</td>\n",
       "    </tr>\n",
       "    <tr>\n",
       "      <th>2018-01-12 20:57:30.579718</th>\n",
       "      <td>3</td>\n",
       "      <td>2018-01-12</td>\n",
       "      <td>20:57:30.579718</td>\n",
       "      <td>BID</td>\n",
       "      <td>0.091336</td>\n",
       "      <td>1</td>\n",
       "      <td>0.091338</td>\n",
       "      <td>1</td>\n",
       "      <td>0.091336</td>\n",
       "      <td>1</td>\n",
       "    </tr>\n",
       "    <tr>\n",
       "      <th>2018-01-12 20:57:30.586886</th>\n",
       "      <td>4</td>\n",
       "      <td>2018-01-12</td>\n",
       "      <td>20:57:30.586886</td>\n",
       "      <td>ASK</td>\n",
       "      <td>0.091338</td>\n",
       "      <td>1</td>\n",
       "      <td>0.091338</td>\n",
       "      <td>1</td>\n",
       "      <td>0.091336</td>\n",
       "      <td>1</td>\n",
       "    </tr>\n",
       "    <tr>\n",
       "      <th>2018-01-12 20:57:30.622927</th>\n",
       "      <td>5</td>\n",
       "      <td>2018-01-12</td>\n",
       "      <td>20:57:30.622927</td>\n",
       "      <td>ASK</td>\n",
       "      <td>0.091337</td>\n",
       "      <td>1</td>\n",
       "      <td>0.091337</td>\n",
       "      <td>1</td>\n",
       "      <td>0.091336</td>\n",
       "      <td>1</td>\n",
       "    </tr>\n",
       "  </tbody>\n",
       "</table>\n",
       "</div>"
      ],
      "text/plain": [
       "                            entry_id  event_date       event_time event_type  \\\n",
       "datetime                                                                       \n",
       "2018-01-12 20:57:29.837070         1  2018-01-12  20:57:29.837070        BID   \n",
       "2018-01-12 20:57:29.845138         2  2018-01-12  20:57:29.845138        ASK   \n",
       "2018-01-12 20:57:30.579718         3  2018-01-12  20:57:30.579718        BID   \n",
       "2018-01-12 20:57:30.586886         4  2018-01-12  20:57:30.586886        ASK   \n",
       "2018-01-12 20:57:30.622927         5  2018-01-12  20:57:30.622927        ASK   \n",
       "\n",
       "                            event_price  event_size  ask_price  ask_size  \\\n",
       "datetime                                                                   \n",
       "2018-01-12 20:57:29.837070     0.091336           1   0.091338         1   \n",
       "2018-01-12 20:57:29.845138     0.091338           1   0.091338         1   \n",
       "2018-01-12 20:57:30.579718     0.091336           1   0.091338         1   \n",
       "2018-01-12 20:57:30.586886     0.091338           1   0.091338         1   \n",
       "2018-01-12 20:57:30.622927     0.091337           1   0.091337         1   \n",
       "\n",
       "                            bid_price  bid_size  \n",
       "datetime                                         \n",
       "2018-01-12 20:57:29.837070   0.091336         1  \n",
       "2018-01-12 20:57:29.845138   0.091336         1  \n",
       "2018-01-12 20:57:30.579718   0.091336         1  \n",
       "2018-01-12 20:57:30.586886   0.091336         1  \n",
       "2018-01-12 20:57:30.622927   0.091336         1  "
      ]
     },
     "execution_count": 26,
     "metadata": {},
     "output_type": "execute_result"
    }
   ],
   "source": []
  },
  {
   "cell_type": "code",
   "execution_count": null,
   "metadata": {},
   "outputs": [],
   "source": []
  }
 ],
 "metadata": {
  "kernelspec": {
   "display_name": "Python 2",
   "language": "python",
   "name": "python2"
  },
  "language_info": {
   "codemirror_mode": {
    "name": "ipython",
    "version": 3
   },
   "file_extension": ".py",
   "mimetype": "text/x-python",
   "name": "python",
   "nbconvert_exporter": "python",
   "pygments_lexer": "ipython3",
   "version": "3.6.4"
  }
 },
 "nbformat": 4,
 "nbformat_minor": 2
}
