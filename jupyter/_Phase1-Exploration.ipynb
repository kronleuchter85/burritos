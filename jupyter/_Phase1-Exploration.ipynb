{
 "cells": [
  {
   "cell_type": "code",
   "execution_count": 1,
   "metadata": {},
   "outputs": [],
   "source": [
    "from datetime import time , datetime , date\n",
    "import pandas as pd\n",
    "import numpy as np\n",
    "import matplotlib.pyplot as plt\n",
    "\n",
    "\n",
    "import psycopg2\n",
    "import sys\n",
    "import pprint\n",
    "import plotly.plotly as py\n",
    "import plotly.graph_objs as go\n",
    "import plotly.offline as off\n"
   ]
  },
  {
   "cell_type": "markdown",
   "metadata": {},
   "source": [
    "## Conexion con PostgreSQL"
   ]
  },
  {
   "cell_type": "code",
   "execution_count": 2,
   "metadata": {
    "code_folding": [
     1,
     9,
     14
    ]
   },
   "outputs": [
    {
     "name": "stdout",
     "output_type": "stream",
     "text": [
      "Connecting to database\n",
      "\t->host='localhost' dbname='ds' user='postgres' password='postgres'\n",
      "Connected!\n",
      "\n"
     ]
    }
   ],
   "source": [
    "\n",
    "def connect(host , db):\n",
    "    #conn_string = \"host='192.168.1.3' dbname='gtrader' user='postgres' password='postgres'\"\n",
    "    conn_string = \"host='\" + host +\"' dbname='\" + db + \"' user='postgres' password='postgres'\"\n",
    "    print \"Connecting to database\\n\t->%s\" % (conn_string)\n",
    "    conn = psycopg2.connect(conn_string)\n",
    "    print \"Connected!\\n\"\n",
    "    return conn\n",
    "\n",
    "def get_frame(table ):\n",
    "    df = pd.read_sql(\"select * from \" + table ,conn)\n",
    "    print 'Leidos:',len(df)\n",
    "    return df\n",
    "\n",
    "def clean_data(frame):\n",
    "    frame2 = frame.copy()\n",
    "\n",
    "    frame2['datetime'] = frame2.apply(lambda x : datetime.combine( x['event_date'] , x['event_time'] ) , axis = 1)\n",
    "    frame2['event_time'] = frame2['event_time'].apply(lambda x : time.strftime(x , '%H:%M:%S.%f'))\n",
    "    frame2['event_date'] = frame2['event_date'].apply(lambda x : date.strftime(x , '%Y-%m-%d'))\n",
    "    frame2 = frame2.set_index(['datetime'])\n",
    "    \n",
    "    return frame2 \n",
    "\n",
    "#conn = connect('192.168.1.3' , 'gtrader')\n",
    "conn = connect('localhost' , 'ds')\n"
   ]
  },
  {
   "cell_type": "markdown",
   "metadata": {},
   "source": [
    "## Analisis y exploración del Set"
   ]
  },
  {
   "cell_type": "code",
   "execution_count": 3,
   "metadata": {
    "code_folding": [
     1,
     38,
     66,
     73
    ]
   },
   "outputs": [],
   "source": [
    "\n",
    "def analyze(prod_name, df  , features ):\n",
    "\n",
    "    data = []\n",
    "   \n",
    "    ff = go.Scatter(\n",
    "        x=df.index,\n",
    "        y=df[features],\n",
    "        name = prod_name,\n",
    "        line = dict(color = '#17BECF'),\n",
    "        opacity = 0.8)\n",
    "    data.append(ff)\n",
    "   \n",
    "    layout = dict(\n",
    "        title=prod_name,\n",
    "        xaxis=dict(\n",
    "            rangeselector=dict(\n",
    "                buttons=list([\n",
    "                    dict(count=1,\n",
    "                         label='1m',\n",
    "                         step='month',\n",
    "                         stepmode='backward'),\n",
    "                    dict(count=6,\n",
    "                         label='6m',\n",
    "                         step='month',\n",
    "                         stepmode='backward'),\n",
    "                    dict(step='all')\n",
    "                ])\n",
    "            ),\n",
    "            rangeslider=dict(),\n",
    "            type='date'\n",
    "        )\n",
    "    )\n",
    "\n",
    "    fig = dict(data=data, layout=layout)\n",
    "    off.plot(fig , filename= prod_name + '.html')\n",
    "\n",
    "\n",
    "def getUrl(d1,d2,label,table, output):\n",
    "\n",
    "    minDate = d1.date().strftime('%Y-%m-%d')\n",
    "    minTime = d1.time().strftime('%H:%M:%S')\n",
    "    maxDate = d2.date().strftime('%Y-%m-%d')\n",
    "    maxTime = d2.time().strftime('%H:%M:%S')\n",
    "    finalLabelName = label + '_' + datetime.strftime(d1,'%Y%m%d_%H%M%S') + '_'+ datetime.strftime(d2,'%Y%m%d_%H%M%S')\n",
    "\n",
    "    url = 'http://localhost:4000/gresearcher/#?'\n",
    "    url += 'tableAsset=$tableAsset'\n",
    "    url += '&labelName=$labelName'\n",
    "    url += '&minDate=$minDate'\n",
    "    url += '&minTime=$minTime'\n",
    "    url += '&maxDate=$maxDate'\n",
    "    url += '&maxTime=$maxTime'\n",
    "    url += '&outputName=$outputName'\n",
    "\n",
    "\n",
    "    final_url = url.replace('$tableAsset',table)\n",
    "    final_url = final_url.replace('$labelName',label)\n",
    "    final_url = final_url.replace('$minDate',minDate)\n",
    "    final_url = final_url.replace('$minTime',minTime)\n",
    "    final_url = final_url.replace('$maxDate',maxDate)\n",
    "    final_url = final_url.replace('$maxTime',maxTime)\n",
    "    final_url = final_url.replace('$outputName',output)\n",
    "    \n",
    "    return final_url\n",
    "\n",
    "def printInformation(d1,d2,labelName,tableName,output):\n",
    "    name = labelName + '_' + datetime.strftime(d1,'%Y%m%d_%H%M%S') + '_'+datetime.strftime(d2,'%Y%m%d_%H%M%S')\n",
    "    print d1\n",
    "    print d2\n",
    "    print name\n",
    "    print getUrl(d1,d2,name,tableName,output)\n",
    "    \n",
    "def prepare_analysis(d1,d2,labelName,dfx,tableName,output):\n",
    "    name = labelName + '_' + datetime.strftime(d1,'%Y%m%d_%H%M%S') + '_'+datetime.strftime(d2,'%Y%m%d_%H%M%S')\n",
    "    frame1 = dfx[(dfx['event_type'] == 'TRADE')  & (dfx.index >= d1) & (dfx.index <= d2)]\n",
    "    analyze(name ,frame1, 'event_price')\n",
    "    printInformation(d1,d2,labelName,tableName, output)\n",
    "    return frame1"
   ]
  },
  {
   "cell_type": "code",
   "execution_count": 4,
   "metadata": {},
   "outputs": [],
   "source": [
    "tableName = 'nymex_future_gc_201712'"
   ]
  },
  {
   "cell_type": "code",
   "execution_count": 8,
   "metadata": {
    "scrolled": true
   },
   "outputs": [
    {
     "name": "stdout",
     "output_type": "stream",
     "text": [
      "Leidos: 3786696\n"
     ]
    }
   ],
   "source": [
    "## cargamos la data\n",
    "df1 = get_frame(tableName)\n",
    "df2 = clean_data(df1)"
   ]
  },
  {
   "cell_type": "markdown",
   "metadata": {},
   "source": [
    "## Exploracion del set a alto nivel (alpha = 0)"
   ]
  },
  {
   "cell_type": "code",
   "execution_count": 5,
   "metadata": {},
   "outputs": [],
   "source": [
    "labelName = 'nymex_future_gc_201712_neg_rev_alpha0'\n",
    "output = 'neg_reversal'"
   ]
  },
  {
   "cell_type": "code",
   "execution_count": 6,
   "metadata": {},
   "outputs": [
    {
     "name": "stdout",
     "output_type": "stream",
     "text": [
      "2017-10-31 08:12:00\n",
      "2017-10-31 16:59:59\n",
      "nymex_future_gc_201712_neg_rev_alpha0_20171031_081200_20171031_165959\n",
      "http://localhost:4000/gresearcher/#?tableAsset=nymex_future_gc_201712&labelName=nymex_future_gc_201712_neg_rev_alpha0_20171031_081200_20171031_165959&minDate=2017-10-31&minTime=08:12:00&maxDate=2017-10-31&maxTime=16:59:59&outputName=neg_reversal\n"
     ]
    }
   ],
   "source": [
    "##\n",
    "## Periodo 1, \n",
    "##\n",
    "\n",
    "d1 = datetime(2017,10,31,8,12,0)\n",
    "d2 = datetime(2017,10,31,16,59,59)\n",
    "\n",
    "printInformation(d1,d2,labelName,tableName,output)\n"
   ]
  },
  {
   "cell_type": "code",
   "execution_count": 19,
   "metadata": {},
   "outputs": [
    {
     "name": "stdout",
     "output_type": "stream",
     "text": [
      "2017-11-01 03:00:00\n",
      "2017-11-01 16:59:59\n",
      "nymex_future_gc_201712_neg_rev_alpha0_20171101_030000_20171101_165959\n",
      "http://localhost:4000/gresearcher/#?tableAsset=nymex_future_gc_201712&labelName=nymex_future_gc_201712_neg_rev_alpha0_20171101_030000_20171101_165959&minDate=2017-11-01&minTime=03:00:00&maxDate=2017-11-01&maxTime=16:59:59&outputName=neg_reversal\n"
     ]
    }
   ],
   "source": [
    "##\n",
    "## Periodo 2, \n",
    "##\n",
    "\n",
    "d1 = datetime(2017,11,1,3,0,0)\n",
    "d2 = datetime(2017,11,1,16,59,59)\n",
    "\n",
    "prepare_analysis(d1,d2,labelName,df2,tableName,output)\n"
   ]
  },
  {
   "cell_type": "code",
   "execution_count": 20,
   "metadata": {},
   "outputs": [
    {
     "name": "stdout",
     "output_type": "stream",
     "text": [
      "2017-11-01 18:00:00\n",
      "2017-11-02 16:59:59\n",
      "nymex_future_gc_201712_neg_rev_alpha0_20171101_180000_20171102_165959\n",
      "http://localhost:4000/gresearcher/#?tableAsset=nymex_future_gc_201712&labelName=nymex_future_gc_201712_neg_rev_alpha0_20171101_180000_20171102_165959&minDate=2017-11-01&minTime=18:00:00&maxDate=2017-11-02&maxTime=16:59:59&outputName=neg_reversal\n"
     ]
    }
   ],
   "source": [
    "##\n",
    "## Periodo 3, \n",
    "##\n",
    "\n",
    "d1 = datetime(2017,11,1,18,0,0)\n",
    "d2 = datetime(2017,11,2,16,59,59)\n",
    "\n",
    "prepare_analysis(d1,d2,labelName,df2,tableName,output)\n"
   ]
  },
  {
   "cell_type": "code",
   "execution_count": 21,
   "metadata": {},
   "outputs": [
    {
     "name": "stdout",
     "output_type": "stream",
     "text": [
      "2017-11-02 18:00:00\n",
      "2017-11-03 16:59:59\n",
      "nymex_future_gc_201712_neg_rev_alpha0_20171102_180000_20171103_165959\n",
      "http://localhost:4000/gresearcher/#?tableAsset=nymex_future_gc_201712&labelName=nymex_future_gc_201712_neg_rev_alpha0_20171102_180000_20171103_165959&minDate=2017-11-02&minTime=18:00:00&maxDate=2017-11-03&maxTime=16:59:59&outputName=neg_reversal\n"
     ]
    }
   ],
   "source": [
    "##\n",
    "## Periodo 4, \n",
    "##\n",
    "\n",
    "d1 = datetime(2017,11,2,18,0,0)\n",
    "d2 = datetime(2017,11,3,16,59,59)\n",
    "\n",
    "prepare_analysis(d1,d2,labelName,df2,tableName,output)\n"
   ]
  },
  {
   "cell_type": "code",
   "execution_count": 22,
   "metadata": {},
   "outputs": [
    {
     "name": "stdout",
     "output_type": "stream",
     "text": [
      "2017-11-05 18:00:00\n",
      "2017-11-06 08:00:00\n",
      "nymex_future_gc_201712_neg_rev_alpha0_20171105_180000_20171106_080000\n",
      "http://localhost:4000/gresearcher/#?tableAsset=nymex_future_gc_201712&labelName=nymex_future_gc_201712_neg_rev_alpha0_20171105_180000_20171106_080000&minDate=2017-11-05&minTime=18:00:00&maxDate=2017-11-06&maxTime=08:00:00&outputName=neg_reversal\n"
     ]
    }
   ],
   "source": [
    "##\n",
    "## Periodo 5, \n",
    "##\n",
    "\n",
    "d1 = datetime(2017,11,5,18,0,0)\n",
    "d2 = datetime(2017,11,6,8,0,0)\n",
    "\n",
    "prepare_analysis(d1,d2,labelName,df2,tableName,output)\n"
   ]
  },
  {
   "cell_type": "code",
   "execution_count": 23,
   "metadata": {},
   "outputs": [
    {
     "name": "stdout",
     "output_type": "stream",
     "text": [
      "2017-11-06 18:00:00\n",
      "2017-11-07 16:59:59\n",
      "nymex_future_gc_201712_neg_rev_alpha0_20171106_180000_20171107_165959\n",
      "http://localhost:4000/gresearcher/#?tableAsset=nymex_future_gc_201712&labelName=nymex_future_gc_201712_neg_rev_alpha0_20171106_180000_20171107_165959&minDate=2017-11-06&minTime=18:00:00&maxDate=2017-11-07&maxTime=16:59:59&outputName=neg_reversal\n"
     ]
    }
   ],
   "source": [
    "##\n",
    "## Periodo 6, \n",
    "##\n",
    "\n",
    "d1 = datetime(2017,11,6,18,0,0)\n",
    "d2 = datetime(2017,11,7,16,59,59)\n",
    "\n",
    "prepare_analysis(d1,d2,labelName,df2,tableName,output)"
   ]
  },
  {
   "cell_type": "code",
   "execution_count": 24,
   "metadata": {},
   "outputs": [
    {
     "name": "stdout",
     "output_type": "stream",
     "text": [
      "2017-11-07 18:00:00\n",
      "2017-11-08 16:59:59\n",
      "nymex_future_gc_201712_neg_rev_alpha0_20171107_180000_20171108_165959\n",
      "http://localhost:4000/gresearcher/#?tableAsset=nymex_future_gc_201712&labelName=nymex_future_gc_201712_neg_rev_alpha0_20171107_180000_20171108_165959&minDate=2017-11-07&minTime=18:00:00&maxDate=2017-11-08&maxTime=16:59:59&outputName=neg_reversal\n"
     ]
    }
   ],
   "source": [
    "##\n",
    "## Periodo 7, \n",
    "##\n",
    "\n",
    "d1 = datetime(2017,11,7,18,0,0)\n",
    "d2 = datetime(2017,11,8,16,59,59)\n",
    "\n",
    "prepare_analysis(d1,d2,labelName,df2,tableName,output)\n"
   ]
  },
  {
   "cell_type": "code",
   "execution_count": 25,
   "metadata": {},
   "outputs": [
    {
     "name": "stdout",
     "output_type": "stream",
     "text": [
      "2017-11-08 18:00:00\n",
      "2017-11-09 16:59:59\n",
      "nymex_future_gc_201712_neg_rev_alpha0_20171108_180000_20171109_165959\n",
      "http://localhost:4000/gresearcher/#?tableAsset=nymex_future_gc_201712&labelName=nymex_future_gc_201712_neg_rev_alpha0_20171108_180000_20171109_165959&minDate=2017-11-08&minTime=18:00:00&maxDate=2017-11-09&maxTime=16:59:59&outputName=neg_reversal\n"
     ]
    }
   ],
   "source": [
    "##\n",
    "## Periodo 8, \n",
    "##\n",
    "\n",
    "d1 = datetime(2017,11,8,18,0,0)\n",
    "d2 = datetime(2017,11,9,16,59,59)\n",
    "\n",
    "prepare_analysis(d1,d2,labelName,df2,tableName,output)"
   ]
  },
  {
   "cell_type": "code",
   "execution_count": 26,
   "metadata": {},
   "outputs": [
    {
     "name": "stdout",
     "output_type": "stream",
     "text": [
      "2017-11-09 18:00:00\n",
      "2017-11-10 16:59:59\n",
      "nymex_future_gc_201712_neg_rev_alpha0_20171109_180000_20171110_165959\n",
      "http://localhost:4000/gresearcher/#?tableAsset=nymex_future_gc_201712&labelName=nymex_future_gc_201712_neg_rev_alpha0_20171109_180000_20171110_165959&minDate=2017-11-09&minTime=18:00:00&maxDate=2017-11-10&maxTime=16:59:59&outputName=neg_reversal\n"
     ]
    }
   ],
   "source": [
    "##\n",
    "## Periodo 9, \n",
    "##\n",
    "\n",
    "d1 = datetime(2017,11,9,18,0,0)\n",
    "d2 = datetime(2017,11,10,16,59,59)\n",
    "\n",
    "prepare_analysis(d1,d2,labelName,df2,tableName,output)"
   ]
  },
  {
   "cell_type": "code",
   "execution_count": null,
   "metadata": {},
   "outputs": [],
   "source": []
  },
  {
   "cell_type": "code",
   "execution_count": null,
   "metadata": {},
   "outputs": [],
   "source": []
  },
  {
   "cell_type": "markdown",
   "metadata": {},
   "source": [
    "### Analizando los intervalos y los volumenes"
   ]
  },
  {
   "cell_type": "code",
   "execution_count": 9,
   "metadata": {},
   "outputs": [
    {
     "name": "stdout",
     "output_type": "stream",
     "text": [
      "2017-10-31 08:12:00\n",
      "2017-10-31 16:59:59\n",
      "nymex_future_gc_201712_neg_rev_alpha0_20171031_081200_20171031_165959\n",
      "http://localhost:4000/gresearcher/#?tableAsset=nymex_future_gc_201712&labelName=nymex_future_gc_201712_neg_rev_alpha0_20171031_081200_20171031_165959&minDate=2017-10-31&minTime=08:12:00&maxDate=2017-10-31&maxTime=16:59:59&outputName=neg_reversal\n"
     ]
    }
   ],
   "source": [
    "\n",
    "d1 = datetime(2017,10,31,8,12,0)\n",
    "d2 = datetime(2017,10,31,16,59,59)\n",
    "\n",
    "f = prepare_analysis(d1,d2,labelName,df2,tableName,output)\n"
   ]
  },
  {
   "cell_type": "code",
   "execution_count": 10,
   "metadata": {},
   "outputs": [],
   "source": [
    "examination = f[(f['event_time'] >= '10:03:30') & (f['event_time'] <= '10:05:00')]\n",
    "examination = examination[examination['event_type'] == 'TRADE']\n"
   ]
  },
  {
   "cell_type": "code",
   "execution_count": 11,
   "metadata": {},
   "outputs": [],
   "source": [
    "examination_sells = examination[examination.event_price == examination.bid_price]\n",
    "examination_buys = examination[examination.event_price == examination.ask_price]\n"
   ]
  },
  {
   "cell_type": "code",
   "execution_count": 12,
   "metadata": {},
   "outputs": [],
   "source": [
    "analyze('sells volume' ,examination_sells, 'event_size')"
   ]
  },
  {
   "cell_type": "code",
   "execution_count": 13,
   "metadata": {},
   "outputs": [],
   "source": [
    "analyze('buys volume' ,examination_buys, 'event_size')"
   ]
  },
  {
   "cell_type": "code",
   "execution_count": 51,
   "metadata": {},
   "outputs": [],
   "source": [
    "examination_sells.loc[:,'price_and_size'] = examination_sells.event_price * examination_sells.event_size"
   ]
  },
  {
   "cell_type": "code",
   "execution_count": 53,
   "metadata": {},
   "outputs": [],
   "source": [
    "examination_buys.loc[:,'price_and_size'] = examination_buys.loc[:,'event_price'] * examination_buys.loc[:,'event_size']"
   ]
  },
  {
   "cell_type": "code",
   "execution_count": 54,
   "metadata": {},
   "outputs": [],
   "source": [
    "analyze('sells volume' ,examination_sells, 'price_and_size')\n",
    "analyze('buys volume' ,examination_buys, 'price_and_size')"
   ]
  },
  {
   "cell_type": "code",
   "execution_count": null,
   "metadata": {},
   "outputs": [],
   "source": []
  },
  {
   "cell_type": "code",
   "execution_count": null,
   "metadata": {},
   "outputs": [],
   "source": []
  },
  {
   "cell_type": "code",
   "execution_count": 55,
   "metadata": {},
   "outputs": [],
   "source": [
    "examination = f\n",
    "examination = examination[examination['event_type'] == 'TRADE']\n",
    "examination_sells = examination[examination.event_price == examination.bid_price]\n",
    "examination_buys = examination[examination.event_price == examination.ask_price]"
   ]
  },
  {
   "cell_type": "code",
   "execution_count": 56,
   "metadata": {},
   "outputs": [],
   "source": [
    "analyze('sells volume 2' ,examination_sells, 'event_size')\n",
    "analyze('buys volume 2' ,examination_buys, 'event_size')"
   ]
  },
  {
   "cell_type": "code",
   "execution_count": 57,
   "metadata": {},
   "outputs": [],
   "source": [
    "examination_sells_over_100 = examination_sells[examination_sells.event_size > 100]\n",
    "analyze('sells volume 3' ,examination_sells_over_100, 'event_size')\n"
   ]
  },
  {
   "cell_type": "code",
   "execution_count": 58,
   "metadata": {},
   "outputs": [],
   "source": []
  },
  {
   "cell_type": "code",
   "execution_count": 59,
   "metadata": {},
   "outputs": [],
   "source": [
    "examination_buys_over_100 = examination_buys[examination_buys.event_size > 100]\n",
    "analyze('sells volume 3' ,examination_buys_over_100, 'event_size')\n"
   ]
  },
  {
   "cell_type": "code",
   "execution_count": null,
   "metadata": {},
   "outputs": [],
   "source": []
  }
 ],
 "metadata": {
  "kernelspec": {
   "display_name": "Python 2",
   "language": "python",
   "name": "python2"
  },
  "language_info": {
   "codemirror_mode": {
    "name": "ipython",
    "version": 2
   },
   "file_extension": ".py",
   "mimetype": "text/x-python",
   "name": "python",
   "nbconvert_exporter": "python",
   "pygments_lexer": "ipython2",
   "version": "2.7.14"
  }
 },
 "nbformat": 4,
 "nbformat_minor": 2
}
